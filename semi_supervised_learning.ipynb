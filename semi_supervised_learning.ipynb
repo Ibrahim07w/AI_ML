{
 "cells": [
  {
   "cell_type": "code",
   "execution_count": null,
   "metadata": {},
   "outputs": [],
   "source": [
    "# general imports\n",
    "\n",
    "import numpy as np\n",
    "import scipy \n",
    "import pandas as pd\n",
    "import os"
   ]
  },
  {
   "cell_type": "code",
   "execution_count": null,
   "metadata": {},
   "outputs": [],
   "source": [
    "from sklearn.datasets import load_digits\n",
    "from sklearn.model_selection import train_test_split\n",
    "x_digits , y_digits= load_digits(return_X_y=True)\n",
    "x_train, x_test, y_train, y_test = train_test_split(x_digits, y_digits, test_size=0.2, random_state=42)\n",
    "x_train.shape\n",
    "from sklearn.linear_model import LogisticRegression\n",
    "log = LogisticRegression(multi_class='ovr', solver='lbfgs', max_iter=5000)\n",
    "log.fit(x_train, y_train)\n",
    "log_score = log.score(x_test,y_test)\n",
    "log_score\n",
    "from sklearn.pipeline import Pipeline\n",
    "from sklearn.cluster import KMeans\n",
    "\n",
    "pipeline = Pipeline([\n",
    "    ('cluster', KMeans(n_clusters=71)),\n",
    "    ('log', LogisticRegression(solver='lbfgs', max_iter=5000))\n",
    "])\n",
    "pipeline.fit(x_train, y_train)\n",
    "log_cluster_score = pipeline.score(x_test, y_test)\n",
    "log_cluster_score\n",
    "kmeans = KMeans(n_clusters=70, n_init='auto', random_state=42)\n",
    "X_digits_dist = kmeans.fit_transform(x_train)\n",
    "representative_digit_idx = np.argmin(X_digits_dist, axis=0)\n",
    "X_representative_digits = x_train[representative_digit_idx]\n",
    "import matplotlib.pyplot as plt\n",
    "plt.figure(figsize=(9, 5))\n",
    "for index, X_representative_digit in enumerate(X_representative_digits):\n",
    "    plt.subplot(70 // 10, 10, index + 1)\n",
    "    plt.imshow(X_representative_digit.reshape(8, 8), cmap=\"binary\", interpolation=\"bilinear\")\n",
    "    plt.axis('off')\n",
    "\n",
    "plt.show()\n",
    "y_train[representative_digit_idx]\n",
    "y_representative_digits = np.array([2, 9, 4, 6, 0, 7, 7, 5, 5, 4, 1, 1, 2, 3, 7, 3, 1, 4, 0, 8, 0, 6,\n",
    "       9, 3, 8, 6, 1, 2, 5, 3, 8, 8, 5, 1, 2, 1, 5, 9, 1, 8, 9, 3, 4, 7,\n",
    "       2, 8, 4, 5, 7, 6, 9, 9, 6, 3, 6, 7, 4, 5, 2, 9, 7, 2, 4, 3, 2, 1,\n",
    "       5, 0, 7, 3])\n",
    "log_reg = LogisticRegression(solver=\"lbfgs\", max_iter=5000, random_state=42)\n",
    "log_reg.fit(X_representative_digits, y_representative_digits)\n",
    "log_reg.score(x_test, y_test)\n",
    "y_train_propagated = np.empty(len(x_train), dtype=np.int32)\n",
    "for i in range(70):\n",
    "    y_train_propagated[kmeans.labels_==i] = y_representative_digits[i]\n",
    "log_reg = LogisticRegression(multi_class=\"ovr\", solver=\"lbfgs\", max_iter=5000, random_state=42)\n",
    "log_reg.fit(x_train, y_train_propagated)\n",
    "log_reg.score(x_test, y_test)\n",
    "# a little bit optimized after propagation but better than nothing due to the small number of labeled data\n",
    "percentile_closest = 75\n",
    "\n",
    "X_cluster_dist = X_digits_dist[np.arange(len(x_train)), kmeans.labels_]\n",
    "for i in range(70):\n",
    "    in_cluster = (kmeans.labels_ == i)\n",
    "    cluster_dist = X_cluster_dist[in_cluster]\n",
    "    cutoff_distance = np.percentile(cluster_dist, percentile_closest)\n",
    "    above_cutoff = (X_cluster_dist > cutoff_distance)\n",
    "    X_cluster_dist[in_cluster & above_cutoff] = -1\n",
    "partially_propagated = (X_cluster_dist != -1)\n",
    "X_train_partially_propagated = x_train[partially_propagated]\n",
    "y_train_partially_propagated = y_train_propagated[partially_propagated]\n",
    "log_reg = LogisticRegression(multi_class=\"ovr\", solver=\"lbfgs\", max_iter=5000, random_state=42)\n",
    "log_reg.fit(X_train_partially_propagated, y_train_partially_propagated)\n",
    "log_reg.score(x_test, y_test)\n",
    "# it seems like the full propagated data is better\n"
   ]
  },
  {
   "cell_type": "code",
   "execution_count": null,
   "metadata": {},
   "outputs": [],
   "source": []
  },
  {
   "cell_type": "code",
   "execution_count": null,
   "metadata": {},
   "outputs": [],
   "source": []
  },
  {
   "cell_type": "code",
   "execution_count": null,
   "metadata": {},
   "outputs": [],
   "source": []
  },
  {
   "cell_type": "code",
   "execution_count": null,
   "metadata": {},
   "outputs": [],
   "source": []
  },
  {
   "cell_type": "code",
   "execution_count": null,
   "metadata": {},
   "outputs": [],
   "source": []
  },
  {
   "cell_type": "code",
   "execution_count": null,
   "metadata": {},
   "outputs": [],
   "source": []
  },
  {
   "cell_type": "code",
   "execution_count": null,
   "metadata": {},
   "outputs": [],
   "source": []
  },
  {
   "cell_type": "code",
   "execution_count": null,
   "metadata": {},
   "outputs": [],
   "source": []
  },
  {
   "cell_type": "code",
   "execution_count": null,
   "metadata": {},
   "outputs": [],
   "source": []
  }
 ],
 "metadata": {
  "kernelspec": {
   "display_name": "Python 3",
   "language": "python",
   "name": "python3"
  },
  "language_info": {
   "name": "python",
   "version": "3.12.4"
  }
 },
 "nbformat": 4,
 "nbformat_minor": 2
}
